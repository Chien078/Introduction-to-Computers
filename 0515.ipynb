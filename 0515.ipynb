{
  "nbformat": 4,
  "nbformat_minor": 0,
  "metadata": {
    "colab": {
      "provenance": [],
      "authorship_tag": "ABX9TyNxRr963sOmusoQu08GUI6N",
      "include_colab_link": true
    },
    "kernelspec": {
      "name": "python3",
      "display_name": "Python 3"
    },
    "language_info": {
      "name": "python"
    }
  },
  "cells": [
    {
      "cell_type": "markdown",
      "metadata": {
        "id": "view-in-github",
        "colab_type": "text"
      },
      "source": [
        "<a href=\"https://colab.research.google.com/github/Chien078/Introduction-to-Computers/blob/main/0515.ipynb\" target=\"_parent\"><img src=\"https://colab.research.google.com/assets/colab-badge.svg\" alt=\"Open In Colab\"/></a>"
      ]
    },
    {
      "cell_type": "code",
      "execution_count": null,
      "metadata": {
        "colab": {
          "base_uri": "https://localhost:8080/"
        },
        "id": "o0bsR4bCuoG0",
        "outputId": "9afbaa33-af6a-429c-c5d9-aeddbdc8b635"
      },
      "outputs": [
        {
          "output_type": "stream",
          "name": "stdout",
          "text": [
            "0515\n"
          ]
        }
      ],
      "source": [
        "print(\"0515\")"
      ]
    },
    {
      "cell_type": "code",
      "source": [
        "rain = str(input(\"今天會下雨嗎？\"))\n",
        "if(rain==\"Y\" or rain==\"y\"):\n",
        "  print(\"出門記得帶傘！\")\n",
        "else:\n",
        "  print(\"請重新輸入\")"
      ],
      "metadata": {
        "colab": {
          "base_uri": "https://localhost:8080/"
        },
        "id": "Qc79tcTvW1ZJ",
        "outputId": "6891c2ab-3c58-4aa6-8f7d-18299cae76b1"
      },
      "execution_count": null,
      "outputs": [
        {
          "output_type": "stream",
          "name": "stdout",
          "text": [
            "今天會下雨嗎？a\n",
            "請重新輸入\n"
          ]
        }
      ]
    },
    {
      "cell_type": "code",
      "source": [
        "temp = float(input(\"請輸入體溫：\"))\n",
        "if temp >= 37.5:\n",
        "  print(\"體溫過高！\")\n",
        "elif 37 <= temp <= 37.4:\n",
        "  print(\"體溫略高！\")\n",
        "elif 34 <= temp <= 36.9:\n",
        "  print(\"體溫正常！\")\n",
        "else:\n",
        "  print(\"體溫異常，請重新測量！\")"
      ],
      "metadata": {
        "colab": {
          "base_uri": "https://localhost:8080/"
        },
        "id": "18KpRife1JNj",
        "outputId": "b05af781-afcc-45d1-8967-3278dc6f0643"
      },
      "execution_count": 9,
      "outputs": [
        {
          "output_type": "stream",
          "name": "stdout",
          "text": [
            "請輸入體溫：32\n",
            "體溫異常，請重新測量！\n"
          ]
        }
      ]
    },
    {
      "cell_type": "code",
      "source": [
        "temp = float(input(\"請輸入體溫：\"))\n",
        "if temp >= 37.5:\n",
        "  print(\"體溫過高！\")\n",
        "elif 37 <= temp <= 37.4:\n",
        "  print(\"體溫略高！\")\n",
        "elif 34 <= temp <= 36.9:\n",
        "  print(\"體溫正常！\")\n",
        "else:\n",
        "  print(\"體溫異常，請重新測量！\")"
      ],
      "metadata": {
        "colab": {
          "base_uri": "https://localhost:8080/"
        },
        "id": "-cdlh5-r4sYF",
        "outputId": "c83c2716-b4a9-4c69-dbfb-04d185895471"
      },
      "execution_count": 8,
      "outputs": [
        {
          "output_type": "stream",
          "name": "stdout",
          "text": [
            "請輸入體溫：36\n",
            "體溫正常！\n"
          ]
        }
      ]
    },
    {
      "cell_type": "code",
      "source": [
        "score = int(input(\"請輸入成績：\"))\n",
        "if score >= 90:\n",
        "  print(\"A\")\n",
        "elif score >= 80:\n",
        "  print(\"B\")\n",
        "elif score >= 70:\n",
        "  print(\"C\")\n",
        "elif score >= 60:\n",
        "  print(\"D\")\n",
        "else:\n",
        "  print(\"E\")"
      ],
      "metadata": {
        "colab": {
          "base_uri": "https://localhost:8080/"
        },
        "id": "J8mVf7vjyRzh",
        "outputId": "d0092af8-bbde-428f-96a7-27b8d9932b9f"
      },
      "execution_count": null,
      "outputs": [
        {
          "output_type": "stream",
          "name": "stdout",
          "text": [
            "請輸入成績：90\n",
            "A\n"
          ]
        }
      ]
    },
    {
      "cell_type": "code",
      "source": [
        "score = int(input(\"請輸入成績：\"))\n",
        "if score >= 90:\n",
        "  print(\"A\")\n",
        "elif score >= 80:\n",
        "  print(\"B\")\n",
        "elif score >= 70:\n",
        "  print(\"C\")\n",
        "elif score >= 60:\n",
        "  print(\"D\")\n",
        "else:\n",
        "  print(\"E\")"
      ],
      "metadata": {
        "colab": {
          "base_uri": "https://localhost:8080/"
        },
        "id": "_b6hmMbKztJK",
        "outputId": "be1fe3e5-bf0a-44f8-8bae-8c7a7ae1c591"
      },
      "execution_count": null,
      "outputs": [
        {
          "output_type": "stream",
          "name": "stdout",
          "text": [
            "請輸入成績：74\n",
            "C\n"
          ]
        }
      ]
    },
    {
      "cell_type": "code",
      "source": [
        "score = int(input(\"請輸入成績：\"))\n",
        "if score >= 90:\n",
        "  print(\"A\")\n",
        "elif score >= 80:\n",
        "  print(\"B\")\n",
        "elif score >= 70:\n",
        "  print(\"C\")\n",
        "elif score >= 60:\n",
        "  print(\"D\")\n",
        "else:\n",
        "  print(\"E\")"
      ],
      "metadata": {
        "id": "nLomdCpwzxH6",
        "outputId": "5866f226-aee7-4b79-df48-e7cc2bcd3894",
        "colab": {
          "base_uri": "https://localhost:8080/"
        }
      },
      "execution_count": null,
      "outputs": [
        {
          "output_type": "stream",
          "name": "stdout",
          "text": [
            "請輸入成績：30\n",
            "E\n"
          ]
        }
      ]
    },
    {
      "cell_type": "code",
      "source": [
        "month = int(input(\"請輸入月份：\"))\n",
        "if 3 <= month <= 5:\n",
        "  print(month, \"月是春天！\")\n",
        "elif 6 <= month <= 8:\n",
        "  print(month, \"月是夏天！\")\n",
        "elif 9 <= month <= 11:\n",
        "  print(month, \"月是秋天！\")\n",
        "elif month == 12 or month == 1 or month == 2:\n",
        "  print(month, \"月是冬天！\")\n",
        "else:\n",
        "  print(\"月份不在範圍內！\")"
      ],
      "metadata": {
        "id": "GLkoJTR7zzfp",
        "colab": {
          "base_uri": "https://localhost:8080/"
        },
        "outputId": "50dd7cc3-4e95-4e6d-eeee-2c361fa6e5a4"
      },
      "execution_count": 11,
      "outputs": [
        {
          "output_type": "stream",
          "name": "stdout",
          "text": [
            "請輸入月份：2\n",
            "2 月是冬天！\n"
          ]
        }
      ]
    },
    {
      "cell_type": "code",
      "source": [
        "month = int(input(\"請輸入月份：\"))\n",
        "if 3 <= month <= 5:\n",
        "  print(month, \"月是春天！\")\n",
        "elif 6 <= month <= 8:\n",
        "  print(month, \"月是夏天！\")\n",
        "elif 9 <= month <= 11:\n",
        "  print(month, \"月是秋天！\")\n",
        "elif month == 12 or month == 1 or month == 2:\n",
        "  print(month, \"月是冬天！\")\n",
        "else:\n",
        "  print(\"月份不在範圍內！\")"
      ],
      "metadata": {
        "colab": {
          "base_uri": "https://localhost:8080/"
        },
        "id": "WD_fFh-C6RVC",
        "outputId": "17bf635b-7115-488c-d9f5-c6ea94f4239c"
      },
      "execution_count": 1,
      "outputs": [
        {
          "output_type": "stream",
          "name": "stdout",
          "text": [
            "請輸入月份：7\n",
            "7 月是夏天！\n"
          ]
        }
      ]
    },
    {
      "cell_type": "code",
      "source": [
        "tax = float(input(\"請輸入今年收入淨額：\"))\n",
        "if tax >= 2000000:\n",
        "  print(\"賦稅金額：\", tax*0.3, \"元\")\n",
        "elif tax >= 1000000:\n",
        "  print(\"賦稅金額：\", tax*0.21, \"元\")\n",
        "elif tax >= 600000:\n",
        "  print(\"賦稅金額：\", tax*0.13, \"元\")\n",
        "elif tax >= 300000:\n",
        "  print(\"賦稅金額：\", tax*0.06, \"元\")\n",
        "else:\n",
        "  print(\"賦稅金額：0 元\")"
      ],
      "metadata": {
        "colab": {
          "base_uri": "https://localhost:8080/"
        },
        "id": "gTes_rikg_SH",
        "outputId": "63ff5d97-d6b3-49ea-94ce-4cd5d0949a92"
      },
      "execution_count": 2,
      "outputs": [
        {
          "output_type": "stream",
          "name": "stdout",
          "text": [
            "請輸入今年收入淨額：10000\n",
            "賦稅金額：0 元\n"
          ]
        }
      ]
    },
    {
      "cell_type": "code",
      "source": [
        "tax = float(input(\"請輸入今年收入淨額：\"))\n",
        "if tax >= 2000000:\n",
        "  print(\"賦稅金額：\", tax*0.3, \"元\")\n",
        "elif tax >= 1000000:\n",
        "  print(\"賦稅金額：\", tax*0.21, \"元\")\n",
        "elif tax >= 600000:\n",
        "  print(\"賦稅金額：\", tax*0.13, \"元\")\n",
        "elif tax >= 300000:\n",
        "  print(\"賦稅金額：\", tax*0.06, \"元\")\n",
        "else:\n",
        "  print(\"賦稅金額：0 元\")"
      ],
      "metadata": {
        "colab": {
          "base_uri": "https://localhost:8080/"
        },
        "id": "M1q6Ji19ifFx",
        "outputId": "5d8ec279-e7a7-407b-8fcb-cd2c4316f89d"
      },
      "execution_count": 3,
      "outputs": [
        {
          "output_type": "stream",
          "name": "stdout",
          "text": [
            "請輸入今年收入淨額：2000000\n",
            "賦稅金額： 600000.0 元\n"
          ]
        }
      ]
    },
    {
      "cell_type": "code",
      "source": [
        "tax = float(input(\"請輸入今年收入淨額：\"))\n",
        "if tax >= 2000000:\n",
        "  print(\"賦稅金額：\", tax*0.3, \"元\")\n",
        "elif tax >= 1000000:\n",
        "  print(\"賦稅金額：\", tax*0.21, \"元\")\n",
        "elif tax >= 600000:\n",
        "  print(\"賦稅金額：\", tax*0.13, \"元\")\n",
        "elif tax >= 300000:\n",
        "  print(\"賦稅金額：\", tax*0.06, \"元\")\n",
        "else:\n",
        "  print(\"賦稅金額：0 元\")"
      ],
      "metadata": {
        "colab": {
          "base_uri": "https://localhost:8080/"
        },
        "id": "s0jaPGIaiu4s",
        "outputId": "12a1dbb3-b940-42e0-c677-0216328a2577"
      },
      "execution_count": 4,
      "outputs": [
        {
          "output_type": "stream",
          "name": "stdout",
          "text": [
            "請輸入今年收入淨額：324209\n",
            "賦稅金額： 19452.54 元\n"
          ]
        }
      ]
    }
  ]
}